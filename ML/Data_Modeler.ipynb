{
 "cells": [
  {
   "cell_type": "code",
   "execution_count": 39,
   "metadata": {},
   "outputs": [],
   "source": [
    "import pandas as pd\n",
    "import numpy as np \n",
    "\n",
    "from sqlalchemy import create_engine\n",
    "import matplotlib.pyplot as plt\n",
    "\n",
    "import os\n",
    "import configparser\n",
    "\n",
    "from sklearn.preprocessing import RobustScaler, KBinsDiscretizer\n",
    "from sklearn.model_selection import train_test_split\n",
    "from sklearn.ensemble import RandomForestClassifier\n",
    "from sklearn.metrics import accuracy_score, precision_score, recall_score, f1_score, confusion_matrix, roc_auc_score, roc_curve, classification_report, auc\n",
    "\n",
    "from lifelines import KaplanMeierFitter"
   ]
  },
  {
   "cell_type": "code",
   "execution_count": 2,
   "metadata": {},
   "outputs": [
    {
     "data": {
      "text/plain": [
       "['postgress_pass.txt']"
      ]
     },
     "execution_count": 2,
     "metadata": {},
     "output_type": "execute_result"
    }
   ],
   "source": [
    "config = configparser.ConfigParser()\n",
    "# Read the credentials file\n",
    "config.read('postgress_pass.txt')"
   ]
  },
  {
   "cell_type": "code",
   "execution_count": 3,
   "metadata": {},
   "outputs": [],
   "source": [
    "# credential\n",
    "username = config.get('DEFAULT', 'username')\n",
    "password = config.get('DEFAULT', 'password')\n",
    "hostname = config.get('DEFAULT', 'hostname')\n",
    "database_name = config.get('DEFAULT', 'database_name')\n",
    "port = '5432'  # Default port for PostgreSQL\n",
    "# Create the database engine\n",
    "engine = create_engine(f'postgresql://{username}:{password}@{hostname}:{port}/{database_name}')"
   ]
  },
  {
   "cell_type": "code",
   "execution_count": 4,
   "metadata": {},
   "outputs": [],
   "source": [
    "query_string = \"Select* from water_meter_status\""
   ]
  },
  {
   "cell_type": "code",
   "execution_count": 5,
   "metadata": {},
   "outputs": [
    {
     "data": {
      "text/html": [
       "<div>\n",
       "<style scoped>\n",
       "    .dataframe tbody tr th:only-of-type {\n",
       "        vertical-align: middle;\n",
       "    }\n",
       "\n",
       "    .dataframe tbody tr th {\n",
       "        vertical-align: top;\n",
       "    }\n",
       "\n",
       "    .dataframe thead th {\n",
       "        text-align: right;\n",
       "    }\n",
       "</style>\n",
       "<table border=\"1\" class=\"dataframe\">\n",
       "  <thead>\n",
       "    <tr style=\"text-align: right;\">\n",
       "      <th></th>\n",
       "      <th>District</th>\n",
       "      <th>Account Type</th>\n",
       "      <th>Meter Manufacturer</th>\n",
       "      <th>Meter Type</th>\n",
       "      <th>Meter Mileage</th>\n",
       "      <th>Installed Period</th>\n",
       "      <th>Status</th>\n",
       "    </tr>\n",
       "  </thead>\n",
       "  <tbody>\n",
       "    <tr>\n",
       "      <th>0</th>\n",
       "      <td>HULU LANGAT</td>\n",
       "      <td>Landed Household</td>\n",
       "      <td>George Kent Malaysia</td>\n",
       "      <td>Mechanical Meter - Plastic Body &amp; Piston Volum...</td>\n",
       "      <td>35369.246647</td>\n",
       "      <td>1.179056</td>\n",
       "      <td>Working</td>\n",
       "    </tr>\n",
       "    <tr>\n",
       "      <th>1</th>\n",
       "      <td>HULU LANGAT</td>\n",
       "      <td>Landed Household</td>\n",
       "      <td>Aqua Flo Sdn. Bhd.</td>\n",
       "      <td>Mechanical Meter - Plastic Body &amp; Piston Volum...</td>\n",
       "      <td>32078.607636</td>\n",
       "      <td>0.943631</td>\n",
       "      <td>Working</td>\n",
       "    </tr>\n",
       "    <tr>\n",
       "      <th>2</th>\n",
       "      <td>HULU LANGAT</td>\n",
       "      <td>Landed Household</td>\n",
       "      <td>Aqua Flo Sdn. Bhd.</td>\n",
       "      <td>Mechanical Meter - Plastic Body &amp; Piston Volum...</td>\n",
       "      <td>29080.863836</td>\n",
       "      <td>1.545652</td>\n",
       "      <td>Working</td>\n",
       "    </tr>\n",
       "    <tr>\n",
       "      <th>3</th>\n",
       "      <td>HULU LANGAT</td>\n",
       "      <td>Landed Household</td>\n",
       "      <td>George Kent Malaysia</td>\n",
       "      <td>Mechanical Meter - Ductile Iron Body &amp; Woltman...</td>\n",
       "      <td>34195.282401</td>\n",
       "      <td>1.155983</td>\n",
       "      <td>Working</td>\n",
       "    </tr>\n",
       "    <tr>\n",
       "      <th>4</th>\n",
       "      <td>HULU LANGAT</td>\n",
       "      <td>Landed Household</td>\n",
       "      <td>Aqua Flo Sdn. Bhd.</td>\n",
       "      <td>Mechanical Meter - Brass Body &amp; Piston Volumet...</td>\n",
       "      <td>33788.936676</td>\n",
       "      <td>1.188148</td>\n",
       "      <td>Working</td>\n",
       "    </tr>\n",
       "  </tbody>\n",
       "</table>\n",
       "</div>"
      ],
      "text/plain": [
       "      District      Account Type    Meter Manufacturer  \\\n",
       "0  HULU LANGAT  Landed Household  George Kent Malaysia   \n",
       "1  HULU LANGAT  Landed Household    Aqua Flo Sdn. Bhd.   \n",
       "2  HULU LANGAT  Landed Household    Aqua Flo Sdn. Bhd.   \n",
       "3  HULU LANGAT  Landed Household  George Kent Malaysia   \n",
       "4  HULU LANGAT  Landed Household    Aqua Flo Sdn. Bhd.   \n",
       "\n",
       "                                          Meter Type  Meter Mileage  \\\n",
       "0  Mechanical Meter - Plastic Body & Piston Volum...   35369.246647   \n",
       "1  Mechanical Meter - Plastic Body & Piston Volum...   32078.607636   \n",
       "2  Mechanical Meter - Plastic Body & Piston Volum...   29080.863836   \n",
       "3  Mechanical Meter - Ductile Iron Body & Woltman...   34195.282401   \n",
       "4  Mechanical Meter - Brass Body & Piston Volumet...   33788.936676   \n",
       "\n",
       "   Installed Period   Status  \n",
       "0          1.179056  Working  \n",
       "1          0.943631  Working  \n",
       "2          1.545652  Working  \n",
       "3          1.155983  Working  \n",
       "4          1.188148  Working  "
      ]
     },
     "execution_count": 5,
     "metadata": {},
     "output_type": "execute_result"
    }
   ],
   "source": [
    "# Execute the query and read the results into a DataFrame\n",
    "df = pd.read_sql_query(query_string, engine)\n",
    "df.head()"
   ]
  },
  {
   "cell_type": "markdown",
   "metadata": {},
   "source": [
    "# Data Modelling"
   ]
  },
  {
   "cell_type": "markdown",
   "metadata": {},
   "source": [
    "## 1. Data Preparation"
   ]
  },
  {
   "cell_type": "markdown",
   "metadata": {},
   "source": [
    "### 1.1 Scaling"
   ]
  },
  {
   "cell_type": "code",
   "execution_count": 6,
   "metadata": {},
   "outputs": [],
   "source": [
    "X = df.drop(columns=['Status'])\n",
    "y = df['Status']"
   ]
  },
  {
   "cell_type": "code",
   "execution_count": 7,
   "metadata": {},
   "outputs": [],
   "source": [
    "# Split the data into training and testing sets\n",
    "X_train, X_test, y_train, y_test, indices_train, indices_test = train_test_split(X, y, range(len(df)), test_size=0.2, random_state=42, shuffle=True)\n"
   ]
  },
  {
   "cell_type": "code",
   "execution_count": 8,
   "metadata": {},
   "outputs": [],
   "source": [
    "# Initialize the RobustScaler\n",
    "robust_scaler = RobustScaler()\n",
    "\n",
    "# Columns to scale\n",
    "columns_to_scale = ['Meter Mileage', 'Installed Period']\n",
    "\n",
    "# Fit the scaler on the training data and transform it\n",
    "X_train_scaled = robust_scaler.fit_transform(X_train[columns_to_scale])\n",
    "X_test_scaled = robust_scaler.transform(X_test[columns_to_scale])"
   ]
  },
  {
   "cell_type": "code",
   "execution_count": 9,
   "metadata": {},
   "outputs": [],
   "source": [
    "# Create DataFrames from the scaled arrays, ensuring correct indices\n",
    "X_train_scaled_df = pd.DataFrame(X_train_scaled, columns=columns_to_scale, index=indices_train)\n",
    "X_test_scaled_df = pd.DataFrame(X_test_scaled, columns=columns_to_scale, index=indices_test)"
   ]
  },
  {
   "cell_type": "code",
   "execution_count": 10,
   "metadata": {},
   "outputs": [],
   "source": [
    "X_train = X_train.drop(columns=columns_to_scale).join(X_train_scaled_df)\n",
    "X_test = X_test.drop(columns=columns_to_scale).join(X_test_scaled_df)"
   ]
  },
  {
   "cell_type": "code",
   "execution_count": 19,
   "metadata": {},
   "outputs": [],
   "source": [
    "categorical_columns = ['District', 'Account Type', 'Meter Manufacturer', 'Meter Type']\n",
    "\n",
    "X_train = pd.get_dummies(X_train, columns=categorical_columns, drop_first=True)\n",
    "X_test = pd.get_dummies(X_test, columns=categorical_columns, drop_first=True)\n"
   ]
  },
  {
   "cell_type": "code",
   "execution_count": 20,
   "metadata": {},
   "outputs": [],
   "source": [
    "rf_scale = RandomForestClassifier(random_state=42)"
   ]
  },
  {
   "cell_type": "code",
   "execution_count": 21,
   "metadata": {},
   "outputs": [],
   "source": [
    "rf_trained = rf_scale.fit(X_train, y_train)\n",
    "predictions = rf_trained.predict(X_test)"
   ]
  },
  {
   "cell_type": "code",
   "execution_count": 31,
   "metadata": {},
   "outputs": [],
   "source": [
    "# Calculate metrics\n",
    "accuracy = accuracy_score(y_test, predictions)\n",
    "f1 = f1_score(y_test, predictions, pos_label='Working')\n",
    "conf_matrix = confusion_matrix(y_test, predictions)\n",
    "class_report = classification_report(y_test, predictions)"
   ]
  },
  {
   "cell_type": "code",
   "execution_count": 34,
   "metadata": {},
   "outputs": [
    {
     "name": "stdout",
     "output_type": "stream",
     "text": [
      "Accuracy: 0.9748418124396072\n",
      "F1 Score: 0.9847544204322201\n",
      "Confusion Matrix:\n",
      " [[102640  11925]\n",
      " [  3983 513771]]\n",
      "Classification Report:\n",
      "               precision    recall  f1-score   support\n",
      "\n",
      "      Failed       0.96      0.90      0.93    114565\n",
      "     Working       0.98      0.99      0.98    517754\n",
      "\n",
      "    accuracy                           0.97    632319\n",
      "   macro avg       0.97      0.94      0.96    632319\n",
      "weighted avg       0.97      0.97      0.97    632319\n",
      "\n"
     ]
    }
   ],
   "source": [
    "print(\"Accuracy:\", accuracy)\n",
    "print(\"F1 Score:\", f1)\n",
    "print(\"Confusion Matrix:\\n\", conf_matrix)\n",
    "print(\"Classification Report:\\n\", class_report)"
   ]
  },
  {
   "cell_type": "code",
   "execution_count": 26,
   "metadata": {},
   "outputs": [
    {
     "name": "stdout",
     "output_type": "stream",
     "text": [
      "ROC AUC Score: 0.9764104327222868\n"
     ]
    }
   ],
   "source": [
    "y_scores = rf_trained.predict_proba(X_test)[:, 1]\n",
    "\n",
    "# Calculate ROC AUC\n",
    "roc_auc = roc_auc_score(y_test, y_scores)\n",
    "print(\"ROC AUC Score:\", roc_auc)"
   ]
  },
  {
   "cell_type": "code",
   "execution_count": 37,
   "metadata": {},
   "outputs": [],
   "source": [
    "# Calculate ROC curve\n",
    "fpr, tpr, thresholds = roc_curve(y_test, y_scores, pos_label='Working')\n",
    "# Calculate the AUC (Area Under Curve)\n",
    "roc_auc = auc(fpr, tpr)"
   ]
  },
  {
   "cell_type": "code",
   "execution_count": 38,
   "metadata": {},
   "outputs": [
    {
     "data": {
      "image/png": "[encoded data removed]",
      "text/plain": [
       "<Figure size 800x600 with 1 Axes>"
      ]
     },
     "metadata": {},
     "output_type": "display_data"
    }
   ],
   "source": [
    "# Plot the ROC Curve\n",
    "import matplotlib.pyplot as plt\n",
    "plt.figure(figsize=(8, 6))\n",
    "plt.plot(fpr, tpr, color='darkorange', lw=2, label=f'ROC curve (area = {roc_auc:.2f})')\n",
    "plt.plot([0, 1], [0, 1], color='navy', linestyle='--')\n",
    "plt.xlabel('False Positive Rate')\n",
    "plt.ylabel('True Positive Rate')\n",
    "plt.title('Receiver Operating Characteristic (ROC)')\n",
    "plt.legend(loc=\"lower right\")\n",
    "plt.show()"
   ]
  }
 ],
 "metadata": {
  "kernelspec": {
   "display_name": "base",
   "language": "python",
   "name": "python3"
  },
  "language_info": {
   "codemirror_mode": {
    "name": "ipython",
    "version": 3
   },
   "file_extension": ".py",
   "mimetype": "text/x-python",
   "name": "python",
   "nbconvert_exporter": "python",
   "pygments_lexer": "ipython3",
   "version": "3.11.5"
  }
 },
 "nbformat": 4,
 "nbformat_minor": 2
}
